{
  "nbformat": 4,
  "nbformat_minor": 0,
  "metadata": {
    "colab": {
      "provenance": [],
      "gpuType": "T4"
    },
    "kernelspec": {
      "name": "python3",
      "display_name": "Python 3"
    },
    "language_info": {
      "name": "python"
    },
    "accelerator": "GPU"
  },
  "cells": [
    {
      "cell_type": "code",
      "execution_count": null,
      "metadata": {
        "colab": {
          "base_uri": "https://localhost:8080/"
        },
        "id": "GvJWxoNttApW",
        "outputId": "2fd9bf90-b4ff-49d9-e001-5c44cc890ff6"
      },
      "outputs": [
        {
          "output_type": "stream",
          "name": "stdout",
          "text": [
            "Collecting monai\n",
            "  Downloading monai-1.2.0-202306081546-py3-none-any.whl (1.3 MB)\n",
            "\u001b[?25l     \u001b[90m━━━━━━━━━━━━━━━━━━━━━━━━━━━━━━━━━━━━━━━━\u001b[0m \u001b[32m0.0/1.3 MB\u001b[0m \u001b[31m?\u001b[0m eta \u001b[36m-:--:--\u001b[0m\r\u001b[2K     \u001b[90m━━━━━━━━━━━━━━━━━━━━━━━━━━━━━━━━━━━━━━━━\u001b[0m \u001b[32m1.3/1.3 MB\u001b[0m \u001b[31m49.5 MB/s\u001b[0m eta \u001b[36m0:00:00\u001b[0m\n",
            "\u001b[?25hRequirement already satisfied: torch>=1.9 in /usr/local/lib/python3.10/dist-packages (from monai) (2.0.1+cu118)\n",
            "Requirement already satisfied: numpy>=1.20 in /usr/local/lib/python3.10/dist-packages (from monai) (1.22.4)\n",
            "Requirement already satisfied: filelock in /usr/local/lib/python3.10/dist-packages (from torch>=1.9->monai) (3.12.2)\n",
            "Requirement already satisfied: typing-extensions in /usr/local/lib/python3.10/dist-packages (from torch>=1.9->monai) (4.6.3)\n",
            "Requirement already satisfied: sympy in /usr/local/lib/python3.10/dist-packages (from torch>=1.9->monai) (1.11.1)\n",
            "Requirement already satisfied: networkx in /usr/local/lib/python3.10/dist-packages (from torch>=1.9->monai) (3.1)\n",
            "Requirement already satisfied: jinja2 in /usr/local/lib/python3.10/dist-packages (from torch>=1.9->monai) (3.1.2)\n",
            "Requirement already satisfied: triton==2.0.0 in /usr/local/lib/python3.10/dist-packages (from torch>=1.9->monai) (2.0.0)\n",
            "Requirement already satisfied: cmake in /usr/local/lib/python3.10/dist-packages (from triton==2.0.0->torch>=1.9->monai) (3.25.2)\n",
            "Requirement already satisfied: lit in /usr/local/lib/python3.10/dist-packages (from triton==2.0.0->torch>=1.9->monai) (16.0.6)\n",
            "Requirement already satisfied: MarkupSafe>=2.0 in /usr/local/lib/python3.10/dist-packages (from jinja2->torch>=1.9->monai) (2.1.3)\n",
            "Requirement already satisfied: mpmath>=0.19 in /usr/local/lib/python3.10/dist-packages (from sympy->torch>=1.9->monai) (1.3.0)\n",
            "Installing collected packages: monai\n",
            "Successfully installed monai-1.2.0\n"
          ]
        }
      ],
      "source": [
        "!pip install monai"
      ]
    },
    {
      "cell_type": "code",
      "source": [
        "import torch\n",
        "import monai\n",
        "import matplotlib.pyplot as plt\n",
        "import matplotlib.image as mpimg\n",
        "from skimage.transform import resize\n",
        "from monai.networks.nets import unet\n",
        "from monai.networks.blocks import Warp, DVF2DDF\n",
        "from monai.config import USE_COMPILED\n",
        "from tqdm import tqdm\n",
        "from torch.nn import MSELoss\n",
        "import numpy as np"
      ],
      "metadata": {
        "id": "qQITphgcttoq"
      },
      "execution_count": null,
      "outputs": []
    },
    {
      "cell_type": "code",
      "execution_count": null,
      "metadata": {
        "id": "TwavZpTEoxpR"
      },
      "outputs": [],
      "source": [
        "# Copyright (c) MONAI Consortium\n",
        "# Licensed under the Apache License, Version 2.0 (the \"License\");\n",
        "# you may not use this file except in compliance with the License.\n",
        "# You may obtain a copy of the License at\n",
        "#     http://www.apache.org/licenses/LICENSE-2.0\n",
        "# Unless required by applicable law or agreed to in writing, software\n",
        "# distributed under the License is distributed on an \"AS IS\" BASIS,\n",
        "# WITHOUT WARRANTIES OR CONDITIONS OF ANY KIND, either express or implied.\n",
        "# See the License for the specific language governing permissions and\n",
        "# limitations under the License.\n",
        "\n",
        "from typing import Union\n",
        "\n",
        "import torch\n",
        "from torch.nn.modules.loss import _Loss\n",
        "\n",
        "from monai.utils import LossReduction\n",
        "\n",
        "\n",
        "def spatial_gradient(x: torch.Tensor, dim: int) -> torch.Tensor:\n",
        "    \"\"\"\n",
        "    Calculate gradients on single dimension of a tensor using central finite difference.\n",
        "    It moves the tensor along the dimension to calculate the approximate gradient\n",
        "    dx[i] = (x[i+1] - x[i-1]) / 2.\n",
        "    Adapted from:\n",
        "        DeepReg (https://github.com/DeepRegNet/DeepReg)\n",
        "\n",
        "    Args:\n",
        "        x: the shape should be BCH(WD).\n",
        "        dim: dimension to calculate gradient along.\n",
        "    Returns:\n",
        "        gradient_dx: the shape should be BCH(WD)\n",
        "    \"\"\"\n",
        "    slice_1 = slice(1, -1)\n",
        "    slice_2_s = slice(2, None)\n",
        "    slice_2_e = slice(None, -2)\n",
        "    slice_all = slice(None)\n",
        "    slicing_s, slicing_e = [slice_all, slice_all], [slice_all, slice_all]\n",
        "    while len(slicing_s) < x.ndim:\n",
        "        slicing_s = slicing_s + [slice_1]\n",
        "        slicing_e = slicing_e + [slice_1]\n",
        "    slicing_s[dim] = slice_2_s\n",
        "    slicing_e[dim] = slice_1 #slice_2_e\n",
        "    return (x[slicing_s] - x[slicing_e])# / 2.0\n",
        "\n",
        "\n",
        "class GradEnergyLoss(_Loss):\n",
        "    \"\"\"\n",
        "    Calculate the Grad energy based on first-order differentiation of pred using forward finite difference.\n",
        "\n",
        "    Adapted from:\n",
        "        DeepReg (https://github.com/DeepRegNet/DeepReg)\n",
        "    \"\"\"\n",
        "\n",
        "    def __init__(self, normalize: bool = False, reduction: Union[LossReduction, str] = LossReduction.MEAN) -> None:\n",
        "        \"\"\"\n",
        "        Args:\n",
        "            normalize:\n",
        "                Whether to divide out spatial sizes in order to make the computation roughly\n",
        "                invariant to image scale (i.e. vector field sampling resolution). Defaults to False.\n",
        "            reduction: {``\"none\"``, ``\"mean\"``, ``\"sum\"``}\n",
        "                Specifies the reduction to apply to the output. Defaults to ``\"mean\"``.\n",
        "\n",
        "                - ``\"none\"``: no reduction will be applied.\n",
        "                - ``\"mean\"``: the sum of the output will be divided by the number of elements in the output.\n",
        "                - ``\"sum\"``: the output will be summed.\n",
        "        \"\"\"\n",
        "        super().__init__(reduction=LossReduction(reduction).value)\n",
        "        self.normalize = normalize\n",
        "\n",
        "    def forward(self, pred: torch.Tensor) -> torch.Tensor:\n",
        "        \"\"\"\n",
        "        Args:\n",
        "            pred: the shape should be BCH(WD)\n",
        "\n",
        "        Raises:\n",
        "            ValueError: When ``self.reduction`` is not one of [\"mean\", \"sum\", \"none\"].\n",
        "\n",
        "        \"\"\"\n",
        "        if pred.ndim not in [3, 4, 5]:\n",
        "            raise ValueError(f\"Expecting 3-d, 4-d or 5-d pred, instead got pred of shape {pred.shape}\")\n",
        "        for i in range(pred.ndim - 2):\n",
        "            if pred.shape[-i - 1] <= 4:\n",
        "                raise ValueError(f\"All spatial dimensions must be > 4, got spatial dimensions {pred.shape[2:]}\")\n",
        "        if pred.shape[1] != pred.ndim - 2:\n",
        "            raise ValueError(\n",
        "                f\"Number of vector components, {pred.shape[1]}, does not match number of spatial dimensions, {pred.ndim-2}\"\n",
        "            )\n",
        "\n",
        "        # first order gradient\n",
        "        first_order_gradient = [spatial_gradient(pred, dim) for dim in range(2, pred.ndim)]\n",
        "\n",
        "        # spatial dimensions in a shape suited for broadcasting below\n",
        "        if self.normalize:\n",
        "            spatial_dims = torch.tensor(pred.shape, device=pred.device)[2:].reshape((1, -1) + (pred.ndim - 2) * (1,))\n",
        "\n",
        "        energy = 0\n",
        "\n",
        "        for dim in range(len(first_order_gradient)):\n",
        "          energy += first_order_gradient[dim] ** 2\n",
        "\n",
        "        if self.reduction == LossReduction.MEAN.value:\n",
        "            energy = torch.mean(energy)  # the batch and channel average\n",
        "        elif self.reduction == LossReduction.SUM.value:\n",
        "            energy = torch.sum(energy)  # sum over the batch and channel dims\n",
        "        elif self.reduction != LossReduction.NONE.value:\n",
        "            raise ValueError(f'Unsupported reduction: {self.reduction}, available options are [\"mean\", \"sum\", \"none\"].')\n",
        "\n",
        "        return energy\n"
      ]
    },
    {
      "cell_type": "code",
      "execution_count": null,
      "metadata": {
        "id": "qrRQJ5oSXF_0",
        "colab": {
          "base_uri": "https://localhost:8080/"
        },
        "outputId": "e151a789-9af1-4c92-cf3b-ec28f504425e"
      },
      "outputs": [
        {
          "output_type": "stream",
          "name": "stdout",
          "text": [
            "Downloading data from https://storage.googleapis.com/tensorflow/tf-keras-datasets/mnist.npz\n",
            "11490434/11490434 [==============================] - 2s 0us/step\n",
            "shape of x_train: (12665, 28, 28), y_train: (12665,)\n"
          ]
        }
      ],
      "source": [
        "from tensorflow.keras.datasets import mnist\n",
        "\n",
        "\n",
        "(x_train_load, y_train_load), (x_test_load, y_test_load) = mnist.load_data()\n",
        "\n",
        "\n",
        "digit_sel1 = 0\n",
        "digit_sel2 = 1\n",
        "\n",
        "# extract instances of the first digit\n",
        "x_train_digit1 = x_train_load[y_train_load == digit_sel1, ...]\n",
        "y_train_digit1 = y_train_load[y_train_load == digit_sel1]\n",
        "x_test_digit1 = x_test_load[y_test_load == digit_sel1, ...]\n",
        "y_test_digit1 = y_test_load[y_test_load == digit_sel1]\n",
        "\n",
        "# extract instances of the second digit\n",
        "x_train_digit2 = x_train_load[y_train_load == digit_sel2, ...]\n",
        "y_train_digit2 = y_train_load[y_train_load == digit_sel2]\n",
        "x_test_digit2 = x_test_load[y_test_load == digit_sel2, ...]\n",
        "y_test_digit2 = y_test_load[y_test_load == digit_sel2]\n",
        "\n",
        "# concatenate the instances and labels of both digits\n",
        "x_train = np.concatenate((x_train_digit1, x_train_digit2), axis=0)\n",
        "y_train = np.concatenate((y_train_digit1, y_train_digit2), axis=0)\n",
        "x_test = np.concatenate((x_test_digit1, x_test_digit2), axis=0)\n",
        "y_test = np.concatenate((y_test_digit1, y_test_digit2), axis=0)\n",
        "\n",
        "# shuffle the combined instances and labels\n",
        "combined_data = list(zip(x_train, y_train))\n",
        "np.random.shuffle(combined_data)\n",
        "x_train, y_train = zip(*combined_data)\n",
        "\n",
        "x_train= np.array(x_train)\n",
        "y_train= np.array(y_train)\n",
        "\n",
        "# let's get some shapes to understand what we loaded.\n",
        "print('shape of x_train: {}, y_train: {}'.format(x_train.shape, y_train.shape))\n",
        "\n",
        "fixed = np.float32(x_train[:200])\n",
        "#fixed=fixed[None,:,:]\n",
        "moving = np.float32(0*x_train[4])\n",
        "\n",
        "fixed = resize(fixed,(fixed.shape[0],28,28))\n",
        "\n",
        "NUM_PROTO = 2\n",
        "moving = np.zeros((NUM_PROTO,28,28))\n",
        "#0*resize(moving,(64,64))   #initialising the moving image to 0\n"
      ]
    },
    {
      "cell_type": "code",
      "source": [
        "def img_is_color(img):\n",
        "\n",
        "    if len(img.shape) == 3:\n",
        "        # Check the color channels to see if they're all the same.\n",
        "        c1, c2, c3 = img[:, : , 0], img[:, :, 1], img[:, :, 2]\n",
        "        if (c1 == c2).all() and (c2 == c3).all():\n",
        "            return True\n",
        "\n",
        "    return False\n",
        "\n",
        "def show_image_list(list_images, list_titles=None, list_cmaps=None, grid=True, num_cols=2, figsize=(20, 10), title_fontsize=30):\n",
        "    '''\n",
        "    Shows a grid of images, where each image is a Numpy array. The images can be either\n",
        "    RGB or grayscale.\n",
        "\n",
        "    Parameters:\n",
        "    ----------\n",
        "    images: list\n",
        "        List of the images to be displayed.\n",
        "    list_titles: list or None\n",
        "        Optional list of titles to be shown for each image.\n",
        "    list_cmaps: list or None\n",
        "        Optional list of cmap values for each image. If None, then cmap will be\n",
        "        automatically inferred.\n",
        "    grid: boolean\n",
        "        If True, show a grid over each image\n",
        "    num_cols: int\n",
        "        Number of columns to show.\n",
        "    figsize: tuple of width, height\n",
        "        Value to be passed to pyplot.figure()\n",
        "    title_fontsize: int\n",
        "        Value to be passed to set_title().\n",
        "    '''\n",
        "\n",
        "    assert isinstance(list_images, list)\n",
        "    assert len(list_images) > 0\n",
        "    assert isinstance(list_images[0], np.ndarray)\n",
        "\n",
        "    if list_titles is not None:\n",
        "        assert isinstance(list_titles, list)\n",
        "        assert len(list_images) == len(list_titles), '%d imgs != %d titles' % (len(list_images), len(list_titles))\n",
        "\n",
        "    if list_cmaps is not None:\n",
        "        assert isinstance(list_cmaps, list)\n",
        "        assert len(list_images) == len(list_cmaps), '%d imgs != %d cmaps' % (len(list_images), len(list_cmaps))\n",
        "\n",
        "    num_images  = len(list_images)\n",
        "    num_cols    = min(num_images, num_cols)\n",
        "    num_rows    = int(num_images / num_cols) + (1 if num_images % num_cols != 0 else 0)\n",
        "\n",
        "    # Create a grid of subplots.\n",
        "    fig, axes = plt.subplots(num_rows, num_cols, figsize=figsize)\n",
        "\n",
        "    # Create list of axes for easy iteration.\n",
        "    if isinstance(axes, np.ndarray):\n",
        "        list_axes = list(axes.flat)\n",
        "    else:\n",
        "        list_axes = [axes]\n",
        "\n",
        "    for i in range(num_images):\n",
        "\n",
        "        img    = list_images[i]\n",
        "        title  = list_titles[i] if list_titles is not None else 'Image %d' % (i)\n",
        "        #cmap   = list_cmaps[i] if list_cmaps is not None else (None if img_is_color(img) else 'gray')\n",
        "\n",
        "        im=list_axes[i].imshow(img, cmap='viridis', vmin=0, vmax=255)\n",
        "\n",
        "        plt.colorbar(im,fraction=0.046, pad=0.04)\n",
        "        list_axes[i].set_title(title, fontsize=title_fontsize)\n",
        "        list_axes[i].grid(grid)\n",
        "\n",
        "    for i in range(num_images, len(list_axes)):\n",
        "        list_axes[i].set_visible(False)\n",
        "\n",
        "\n",
        "    fig.tight_layout()\n",
        "    _ = plt.show()\n"
      ],
      "metadata": {
        "id": "JnK5mb630OV6"
      },
      "execution_count": null,
      "outputs": []
    },
    {
      "cell_type": "code",
      "source": [
        "nofixed=5\n",
        "list_images=[moving]\n",
        "name=['Fixed Image']\n",
        "list_titles=list(np.repeat(name,nofixed))\n",
        "\n",
        "for i in range(nofixed):\n",
        "  list_images.append(fixed[i])\n",
        "\n",
        "#show_image_list(list_images=list_images,\n",
        "#                list_titles=['Moving Image']+list_titles,\n",
        "#                num_cols=2,\n",
        "#                figsize=(10, 10),\n",
        "#                grid=False,\n",
        "#                title_fontsize=15)"
      ],
      "metadata": {
        "id": "IEzddXt4zXIr"
      },
      "execution_count": null,
      "outputs": []
    },
    {
      "cell_type": "code",
      "source": [
        "sum=0\n",
        "for i in range(100):\n",
        "  sum+=fixed[i]\n",
        "\n",
        "avg_fixed=sum/100\n",
        "plt.imshow(avg_fixed,vmin=0, vmax=255)\n",
        "plt.colorbar(fraction=0.046, pad=0.04)\n",
        "plt.title('Average Image')"
      ],
      "metadata": {
        "colab": {
          "base_uri": "https://localhost:8080/",
          "height": 469
        },
        "id": "pl88XqPkLquM",
        "outputId": "a60cf9ea-d9f2-4493-a77c-a7c5c909de27"
      },
      "execution_count": null,
      "outputs": [
        {
          "output_type": "execute_result",
          "data": {
            "text/plain": [
              "Text(0.5, 1.0, 'Average Image')"
            ]
          },
          "metadata": {},
          "execution_count": 7
        },
        {
          "output_type": "display_data",
          "data": {
            "text/plain": [
              "<Figure size 640x480 with 2 Axes>"
            ],
            "image/png": "[encoded data removed]"
          },
          "metadata": {}
        }
      ]
    },
    {
      "cell_type": "code",
      "source": [
        "import torch.nn as nn\n",
        "import torch.nn.functional as F\n",
        "import torch.optim as optim"
      ],
      "metadata": {
        "id": "_qaQiiT6L-NF"
      },
      "execution_count": null,
      "outputs": []
    },
    {
      "cell_type": "code",
      "source": [
        "class Net(nn.Module):\n",
        "    def __init__(self):\n",
        "        super(Net, self).__init__()\n",
        "        self.conv1 = nn.Conv2d(1, 10, kernel_size=5)\n",
        "        self.conv2 = nn.Conv2d(10, 20, kernel_size=5)\n",
        "        self.conv2_drop = nn.Dropout2d()\n",
        "        self.fc1 = nn.Linear(320, 50)\n",
        "        self.fc2 = nn.Linear(50, 10)\n",
        "\n",
        "    def forward(self, x):\n",
        "        x = F.relu(F.max_pool2d(self.conv1(x), 2))\n",
        "        x = F.relu(F.max_pool2d(self.conv2_drop(self.conv2(x)), 2))\n",
        "        x = x.view(-1, 320)\n",
        "        x = F.relu(self.fc1(x))\n",
        "        x = F.dropout(x, training=self.training)\n",
        "        x = self.fc2(x)\n",
        "        return F.softmax(x)"
      ],
      "metadata": {
        "id": "VVAdFyDuJaIY"
      },
      "execution_count": null,
      "outputs": []
    },
    {
      "cell_type": "code",
      "source": [
        "'''\n",
        "class Net(nn.Module):\n",
        "\n",
        "    def __init__(self, num_classes=NUM_PROTO):\n",
        "        super(Net,self).__init__()\n",
        "\n",
        "        self.conv1 = nn.Conv2d(in_channels=1, out_channels=12, kernel_size=3,stride=1, padding=1)\n",
        "        self.relu1 = nn.ReLU()\n",
        "\n",
        "        self.maxpool1 = nn.MaxPool2d(kernel_size=2)\n",
        "\n",
        "        self.conv2 = nn.Conv2d(in_channels=12, out_channels=24, kernel_size=3, stride=1, padding=1)\n",
        "        self.relu2 = nn.ReLU()\n",
        "\n",
        "        self.lf = nn.Linear(in_features=32 * 32 * 24, out_features=num_classes)\n",
        "\n",
        "    def forward(self, input):\n",
        "        output = self.conv1(input)\n",
        "        output = self.relu1(output)\n",
        "\n",
        "        output = self.maxpool1(output)\n",
        "\n",
        "        output = self.conv2(output)\n",
        "        output = self.relu2(output)\n",
        "\n",
        "        output = output.view(-1, 32 * 32 * 24)\n",
        "\n",
        "        output = self.lf(output)\n",
        "\n",
        "        return output'''"
      ],
      "metadata": {
        "id": "NTWYaivlLwoa",
        "colab": {
          "base_uri": "https://localhost:8080/"
        },
        "outputId": "ee99cb7a-f347-4684-ee3a-59930f48547c"
      },
      "execution_count": null,
      "outputs": [
        {
          "output_type": "execute_result",
          "data": {
            "text/plain": [
              "'\\nclass Net(nn.Module):\\n\\n    def __init__(self, num_classes=NUM_PROTO):\\n        super(Net,self).__init__()\\n\\n        self.conv1 = nn.Conv2d(in_channels=1, out_channels=12, kernel_size=3,stride=1, padding=1)\\n        self.relu1 = nn.ReLU()\\n\\n        self.maxpool1 = nn.MaxPool2d(kernel_size=2)\\n\\n        self.conv2 = nn.Conv2d(in_channels=12, out_channels=24, kernel_size=3, stride=1, padding=1)\\n        self.relu2 = nn.ReLU()\\n\\n        self.lf = nn.Linear(in_features=32 * 32 * 24, out_features=num_classes)\\n\\n    def forward(self, input):\\n        output = self.conv1(input)\\n        output = self.relu1(output)\\n\\n        output = self.maxpool1(output)\\n\\n        output = self.conv2(output)\\n        output = self.relu2(output)\\n\\n        output = output.view(-1, 32 * 32 * 24)\\n\\n        output = self.lf(output)\\n\\n        return output'"
            ],
            "application/vnd.google.colaboratory.intrinsic+json": {
              "type": "string"
            }
          },
          "metadata": {},
          "execution_count": 10
        }
      ]
    },
    {
      "cell_type": "code",
      "source": [
        "prototype_selection_net = Net().to('cuda')\n",
        "prototype_selection_net.train()\n",
        "\n",
        "def select_prototype(image):\n",
        "\n",
        "    #image = torch.from_numpy(image)\n",
        "\n",
        "    # Predict the digit using the MNIST model\n",
        "    #with torch.no_grad():\n",
        "    prediction = prototype_selection_net(image)\n",
        "    predicted_digit = torch.argmax(prediction,dim=1)\n",
        "\n",
        "    return predicted_digit, prediction"
      ],
      "metadata": {
        "id": "vJ10ILSxKocX"
      },
      "execution_count": null,
      "outputs": []
    },
    {
      "cell_type": "code",
      "source": [
        "digit_sel = 1\n",
        "x_train = x_train_load[y_train_load == digit_sel, ...]\n",
        "x_train = np.float32(x_train)\n",
        "x_train = x_train[:10,None,:,:]\n",
        "\n",
        "\n",
        "from skimage.transform import resize\n",
        "\n",
        "image = resize(x_train, (x_train.shape[0],1,28, 28))\n",
        "\n",
        "print(image.shape)\n",
        "#image = np.float32(x_train)\n",
        "\n",
        "# Classify the image using the MNIST model\n",
        "predicted_digit,prediction = select_prototype(torch.from_numpy(image).to('cuda'))\n",
        "\n",
        "print(f\"The image represents the digit: {predicted_digit}\")\n"
      ],
      "metadata": {
        "id": "-Hrj2BL1Qj0q",
        "colab": {
          "base_uri": "https://localhost:8080/"
        },
        "outputId": "664b1190-4862-4f34-d1d9-4fad66473cb9"
      },
      "execution_count": null,
      "outputs": [
        {
          "output_type": "stream",
          "name": "stdout",
          "text": [
            "(10, 1, 28, 28)\n",
            "The image represents the digit: tensor([0, 2, 4, 4, 4, 4, 3, 2, 4, 2], device='cuda:0')\n"
          ]
        },
        {
          "output_type": "stream",
          "name": "stderr",
          "text": [
            "<ipython-input-9-18859b8ec630>:17: UserWarning: Implicit dimension choice for softmax has been deprecated. Change the call to include dim=X as an argument.\n",
            "  return F.softmax(x)\n"
          ]
        }
      ]
    },
    {
      "cell_type": "code",
      "source": [
        "print(image.shape)\n",
        "print(prediction.shape)\n",
        "predicted_digit"
      ],
      "metadata": {
        "id": "nQnK4Ih-VGbs",
        "colab": {
          "base_uri": "https://localhost:8080/"
        },
        "outputId": "9e979804-2690-4d35-f1e3-2947259636a8"
      },
      "execution_count": null,
      "outputs": [
        {
          "output_type": "stream",
          "name": "stdout",
          "text": [
            "(10, 1, 28, 28)\n",
            "torch.Size([10, 10])\n"
          ]
        },
        {
          "output_type": "execute_result",
          "data": {
            "text/plain": [
              "tensor([0, 2, 4, 4, 4, 4, 3, 2, 4, 2], device='cuda:0')"
            ]
          },
          "metadata": {},
          "execution_count": 13
        }
      ]
    },
    {
      "cell_type": "code",
      "execution_count": null,
      "metadata": {
        "id": "1v3tuYs_aATf",
        "colab": {
          "base_uri": "https://localhost:8080/"
        },
        "outputId": "639f255a-8ced-402a-bd8a-178a643208c4"
      },
      "outputs": [
        {
          "output_type": "stream",
          "name": "stderr",
          "text": [
            "/usr/local/lib/python3.10/dist-packages/monai/networks/blocks/warp.py:67: UserWarning: monai.networks.blocks.Warp: Using PyTorch native grid_sample.\n",
            "  warnings.warn(\"monai.networks.blocks.Warp: Using PyTorch native grid_sample.\")\n"
          ]
        },
        {
          "output_type": "execute_result",
          "data": {
            "text/plain": [
              "Model()"
            ]
          },
          "metadata": {},
          "execution_count": 14
        }
      ],
      "source": [
        "reg = unet.UNet(spatial_dims=2,  # spatial dims\n",
        "    in_channels=2,\n",
        "    out_channels=2,# output channels (to represent 2D displacement vector field)\n",
        "    channels=(16, 32, 32, 32, 32),  # channel sequence\n",
        "    strides=(1, 2, 2, 4),  # convolutional strides\n",
        "    dropout=0.2,\n",
        "    norm=\"batch\").to('cuda')\n",
        "\n",
        "if USE_COMPILED:\n",
        "    warp_layer = Warp(2, padding_mode=\"zeros\").to('cuda')\n",
        "else:\n",
        "    warp_layer = Warp(\"bilinear\", padding_mode=\"zeros\").to('cuda')\n",
        "\n",
        "dvf_2_ddf = DVF2DDF()\n",
        "\n",
        "reg.train()\n",
        "\n",
        "import torch.nn as nn\n",
        "\n",
        "class Model(nn.Module):\n",
        "    def __init__(self, img):\n",
        "        super(Model, self).__init__()\n",
        "        self.moving_img = nn.Parameter(img)\n",
        "\n",
        "    def forward(self):\n",
        "        return self.moving_img\n",
        "\n",
        "\n",
        "moving_net = Model(torch.tensor(0*moving)).to('cuda')\n",
        "\n",
        "optimizerR = torch.optim.Adam(reg.parameters(), lr=0.01)\n",
        "optimizerM = torch.optim.Adam(moving_net.parameters(), lr=0.1)\n",
        "optimizerP = torch.optim.Adam(prototype_selection_net.parameters(), lr=0.1)\n",
        "\n",
        "moving_net.train()"
      ]
    },
    {
      "cell_type": "code",
      "execution_count": null,
      "metadata": {
        "id": "wQJGNZ6DfVyE",
        "colab": {
          "base_uri": "https://localhost:8080/"
        },
        "outputId": "1dbfaa6b-1b1c-4413-c008-2bf83b02aaef"
      },
      "outputs": [
        {
          "output_type": "execute_result",
          "data": {
            "text/plain": [
              "MSELoss()"
            ]
          },
          "metadata": {},
          "execution_count": 15
        }
      ],
      "source": [
        "image_loss = MSELoss()\n",
        "regularization_loss = GradEnergyLoss()\n",
        "image_loss.to('cuda')"
      ]
    },
    {
      "cell_type": "code",
      "execution_count": null,
      "metadata": {
        "id": "2e15x5HlWBA4",
        "colab": {
          "base_uri": "https://localhost:8080/"
        },
        "outputId": "b0b6288d-7b07-429a-e3e4-5c99521eddca"
      },
      "outputs": [
        {
          "output_type": "stream",
          "name": "stdout",
          "text": [
            "(2, 28, 28)\n",
            "(200, 28, 28)\n"
          ]
        }
      ],
      "source": [
        "print(moving.shape)\n",
        "print(fixed.shape)\n",
        "fixedo = fixed\n",
        "movingo=moving"
      ]
    },
    {
      "cell_type": "code",
      "execution_count": null,
      "metadata": {
        "id": "fP-R8_hTexy2",
        "colab": {
          "base_uri": "https://localhost:8080/"
        },
        "outputId": "f68f8fce-d665-46fe-9b3f-6dcdacbffa11"
      },
      "outputs": [
        {
          "output_type": "stream",
          "name": "stdout",
          "text": [
            "torch.Size([2, 28, 28])\n"
          ]
        }
      ],
      "source": [
        "moving = moving_net()\n",
        "\n",
        "print(moving.shape)\n",
        "\n",
        "\n",
        "#print(torch.tile(moving[None,:,:,:],(fixed.shape[0],1,1,1)).shape)\n"
      ]
    },
    {
      "cell_type": "code",
      "execution_count": null,
      "metadata": {
        "id": "PtF7X5pmdmlJ",
        "colab": {
          "base_uri": "https://localhost:8080/"
        },
        "outputId": "7088bbb5-9156-45bc-850a-54e4aac13d2e"
      },
      "outputs": [
        {
          "output_type": "stream",
          "name": "stderr",
          "text": [
            "\r  0%|          | 0/50000 [00:00<?, ?it/s]<ipython-input-9-18859b8ec630>:17: UserWarning: Implicit dimension choice for softmax has been deprecated. Change the call to include dim=X as an argument.\n",
            "  return F.softmax(x)\n",
            "  0%|          | 0/50000 [00:00<?, ?it/s]\n"
          ]
        },
        {
          "output_type": "error",
          "ename": "RuntimeError",
          "evalue": "ignored",
          "traceback": [
            "\u001b[0;31m---------------------------------------------------------------------------\u001b[0m",
            "\u001b[0;31mRuntimeError\u001b[0m                              Traceback (most recent call last)",
            "\u001b[0;32m<ipython-input-18-295e066d4abe>\u001b[0m in \u001b[0;36m<cell line: 11>\u001b[0;34m()\u001b[0m\n\u001b[1;32m     24\u001b[0m \u001b[0;34m\u001b[0m\u001b[0m\n\u001b[1;32m     25\u001b[0m     \u001b[0;31m#moving = torch.tile(moving1[None,None,:,:],(fixed.shape[0],1,1,1))\u001b[0m\u001b[0;34m\u001b[0m\u001b[0;34m\u001b[0m\u001b[0m\n\u001b[0;32m---> 26\u001b[0;31m     \u001b[0mmoving\u001b[0m \u001b[0;34m=\u001b[0m \u001b[0mmoving\u001b[0m\u001b[0;34m.\u001b[0m\u001b[0mfloat\u001b[0m\u001b[0;34m(\u001b[0m\u001b[0;34m)\u001b[0m\u001b[0;34m\u001b[0m\u001b[0;34m\u001b[0m\u001b[0m\n\u001b[0m\u001b[1;32m     27\u001b[0m \u001b[0;34m\u001b[0m\u001b[0m\n\u001b[1;32m     28\u001b[0m     \u001b[0;31m#input_data = torch.cat((moving[:,None,:,:], fixed), dim=1)\u001b[0m\u001b[0;34m\u001b[0m\u001b[0;34m\u001b[0m\u001b[0m\n",
            "\u001b[0;31mRuntimeError\u001b[0m: CUDA error: device-side assert triggered\nCUDA kernel errors might be asynchronously reported at some other API call, so the stacktrace below might be incorrect.\nFor debugging consider passing CUDA_LAUNCH_BLOCKING=1.\nCompile with `TORCH_USE_CUDA_DSA` to enable device-side assertions.\n"
          ]
        }
      ],
      "source": [
        "fixed = fixedo[:,None,:,:]\n",
        "#moving = np.tile(movingo,(fixed.shape[0],1,1,1))\n",
        "\n",
        "max_epochs = 50000\n",
        "\n",
        "loss_array=[]\n",
        "epoch_array=[]\n",
        "\n",
        "fixed = torch.tensor(fixed).to('cuda')\n",
        "\n",
        "for epoch in tqdm(range(max_epochs)):\n",
        "\n",
        "    optimizerM.zero_grad()\n",
        "   # optimizerR.zero_grad()\n",
        "    optimizerP.zero_grad()\n",
        "\n",
        "    prototype_num, _ = select_prototype(fixed)\n",
        "\n",
        "\n",
        "\n",
        "    moving1 = moving_net()\n",
        "    moving = moving1[prototype_num,:,:]\n",
        "\n",
        "\n",
        "    #moving = torch.tile(moving1[None,None,:,:],(fixed.shape[0],1,1,1))\n",
        "    moving = moving.float()\n",
        "\n",
        "    #input_data = torch.cat((moving[:,None,:,:], fixed), dim=1)\n",
        "    #dvf = reg(input_data)\n",
        "    #ddf = dvf_2_ddf(dvf)\n",
        "    moved = moving[:,None,:,:] #warp_layer(moving[:,None,:,:], ddf)\n",
        "\n",
        "    imgloss = image_loss(moved, fixed)# + 300000*regularization_loss(ddf)\n",
        "\n",
        "    imgloss.backward()\n",
        "\n",
        "    optimizerP.step()\n",
        "    #optimizerR.step()\n",
        "    optimizerM.step()\n",
        "\n",
        "    loss_value=imgloss.item()\n",
        "    loss_array.append(loss_value)\n",
        "    epoch_array.append(epoch)\n",
        "    #print(f\"Epoch: {epoch}, Loss: {loss_value}\")\n",
        "\n",
        "\n",
        "\n"
      ]
    },
    {
      "cell_type": "code",
      "source": [
        "moving1 = moving_net()\n",
        "moving1=moving1.detach().to('cpu').numpy()\n",
        "plt.imshow(moving1[0],vmin=0, vmax=200)"
      ],
      "metadata": {
        "id": "u_mBF_MGNd-j"
      },
      "execution_count": null,
      "outputs": []
    },
    {
      "cell_type": "code",
      "source": [
        "plt.imshow(moving1[1],vmin=0, vmax=200)"
      ],
      "metadata": {
        "id": "GcPNXksEPr-z"
      },
      "execution_count": null,
      "outputs": []
    },
    {
      "cell_type": "code",
      "source": [
        "plt.imshow(moving1[2],vmin=0, vmax=200)"
      ],
      "metadata": {
        "id": "-aAxpqyygOQJ"
      },
      "execution_count": null,
      "outputs": []
    },
    {
      "cell_type": "code",
      "source": [
        "output_images= [moving.detach()[0,0].to('cpu').numpy(),\n",
        "               fixed[0,0].to('cpu').numpy(),\n",
        "               moved[0,0].detach().to('cpu').numpy(),\n",
        "               ddf[0,0].detach().to('cpu').numpy(),\n",
        "               ddf[0,1].detach().to('cpu').numpy()]\n",
        "show_image_list(list_images=output_images,\n",
        "                list_titles=['Learnt Moving Image','Fixed Image','Moved Image','Deformation Field','Deformation Field'],\n",
        "                num_cols=3,\n",
        "                figsize=(10, 10),\n",
        "                grid=False,\n",
        "                title_fontsize=15)"
      ],
      "metadata": {
        "id": "WG8TSEbUrIPa"
      },
      "execution_count": null,
      "outputs": []
    }
  ]
}